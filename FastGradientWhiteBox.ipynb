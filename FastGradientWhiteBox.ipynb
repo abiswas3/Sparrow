{
 "cells": [
  {
   "cell_type": "code",
   "execution_count": 1,
   "metadata": {},
   "outputs": [],
   "source": [
    "from tensorflow.examples.tutorials.mnist import input_data   \n",
    "import numpy as np\n",
    "from sklearn.metrics import accuracy_score"
   ]
  },
  {
   "cell_type": "code",
   "execution_count": 2,
   "metadata": {},
   "outputs": [],
   "source": [
    "from model import ImageClassifier\n",
    "from jack import Jack"
   ]
  },
  {
   "cell_type": "code",
   "execution_count": 3,
   "metadata": {},
   "outputs": [
    {
     "name": "stdout",
     "output_type": "stream",
     "text": [
      "Extracting ./MNIST_data/train-images-idx3-ubyte.gz\n",
      "Extracting ./MNIST_data/train-labels-idx1-ubyte.gz\n",
      "Extracting ./MNIST_data/t10k-images-idx3-ubyte.gz\n",
      "Extracting ./MNIST_data/t10k-labels-idx1-ubyte.gz\n",
      "Tensor(\"gradients_1/MatMul_grad/MatMul:0\", shape=(?, 784), dtype=float32)\n"
     ]
    }
   ],
   "source": [
    "# Import data as tensors                                                                                                                               \n",
    "mnist = input_data.read_data_sets(\"./MNIST_data/\",                                                                                                     \n",
    "                                  one_hot=True)                                                                                                        \n",
    "\n",
    "# Train a classifier                                                                                                                                   \n",
    "data = mnist.train.images                                                                                                                              \n",
    "labels = mnist.train.labels                                                                                                                            \n",
    "im = ImageClassifier( data,                                                                                                                            \n",
    "                      labels,                                                                                                                          \n",
    "                      len(data[0]),                                                                                                                    \n",
    "                      10)   "
   ]
  },
  {
   "cell_type": "code",
   "execution_count": 4,
   "metadata": {},
   "outputs": [
    {
     "name": "stdout",
     "output_type": "stream",
     "text": [
      "0 training_accuracy: 0.44685454545454545\n",
      "\n",
      "500 training_accuracy: 0.8934909090909091\n",
      "\n",
      "1000 training_accuracy: 0.9081818181818182\n",
      "\n",
      "1500 training_accuracy: 0.9158\n",
      "\n",
      "2000 training_accuracy: 0.9186363636363636\n",
      "\n",
      "2500 training_accuracy: 0.9199818181818182\n",
      "\n",
      "3000 training_accuracy: 0.9233636363636364\n",
      "\n",
      "3500 training_accuracy: 0.9248909090909091\n",
      "\n",
      "4000 training_accuracy: 0.925\n",
      "\n",
      "4500 training_accuracy: 0.9275454545454546\n",
      "\n",
      "Training finished\n"
     ]
    }
   ],
   "source": [
    "im.train(epochs=5000)        "
   ]
  },
  {
   "cell_type": "code",
   "execution_count": 5,
   "metadata": {},
   "outputs": [
    {
     "name": "stdout",
     "output_type": "stream",
     "text": [
      "Accuracy on validation data: 0.9248\n",
      "\n"
     ]
    }
   ],
   "source": [
    "y_truth =  [np.argmax(i) for i in mnist.test.labels]                                                                                                   \n",
    "y_pred =  [np.argmax(i) for i in im.oracle(mnist.test.images[:])]                                                                                      \n",
    "print('Accuracy on validation data: {}\\n'.format(accuracy_score(y_truth, y_pred)))  "
   ]
  },
  {
   "cell_type": "code",
   "execution_count": 6,
   "metadata": {},
   "outputs": [],
   "source": [
    "j  = Jack()                                                                                                                                            \n",
    "fake_labels = np.zeros((mnist.test.labels.shape))                                                                                                      \n",
    "for i,p in enumerate(y_pred):                                                                                                                          \n",
    "    fake_labels[i, p] = 1                                                                                                                              \n",
    "\n",
    "# these our the bad ones                                                                                                                               \n",
    "pirates = j.turn_em_into_a_pirate(mnist.test.images,                                                                                                   \n",
    "                                  fake_labels,                                                                                                         \n",
    "                                  im,                                                                                                                  \n",
    "                                  eps=0.07,                                                                                                            \n",
    "                                  num_test_images = 'all')\n"
   ]
  },
  {
   "cell_type": "code",
   "execution_count": 7,
   "metadata": {},
   "outputs": [
    {
     "name": "stdout",
     "output_type": "stream",
     "text": [
      "Noiseless accuracy: 0.9248 Jacked Accuracy: 0.0606\n",
      "\n"
     ]
    }
   ],
   "source": [
    "y_bad   = [np.argmax(i) for i in im.oracle(pirates)]                                                                                                   \n",
    "\n",
    "# finally print out the difference in                                                                                                                  \n",
    "print('Noiseless accuracy: {} Jacked Accuracy: {}\\n'.format(accuracy_score(y_truth, y_pred),                                                                                  \n",
    "                                   accuracy_score(y_truth, y_bad)))      "
   ]
  },
  {
   "cell_type": "code",
   "execution_count": 8,
   "metadata": {},
   "outputs": [
    {
     "data": {
      "text/plain": [
       "<Figure size 2000x2000 with 20 Axes>"
      ]
     },
     "metadata": {},
     "output_type": "display_data"
    }
   ],
   "source": [
    "import matplotlib.pyplot as plt\n",
    "\n",
    "f, axarr = plt.subplots(10, 2,figsize=(20,20))\n",
    "for i in range(10):\n",
    "    index = np.random.randint(len(pirates))\n",
    "    pixels = np.array(mnist.test.images[index])\n",
    "    pixels = pixels.reshape((28, 28))\n",
    "    axarr[i,0].imshow(pixels, cmap='gray')\n",
    "    axarr[i,0].set_title('Predicted Label {}'.format(y_pred[index]))\n",
    "    \n",
    "    pixels = np.array(pirates[index])\n",
    "    pixels = pixels.reshape((28, 28)) \n",
    "    axarr[i,1].set_title('Predicted Label {}'.format(y_bad[index]))\n",
    "    axarr[i,1].imshow(pixels, cmap='gray')\n",
    "\n",
    "plt.tight_layout()\n",
    "plt.show()"
   ]
  },
  {
   "cell_type": "code",
   "execution_count": null,
   "metadata": {},
   "outputs": [],
   "source": []
  }
 ],
 "metadata": {
  "kernelspec": {
   "display_name": "Python 3",
   "language": "python",
   "name": "python3"
  },
  "language_info": {
   "codemirror_mode": {
    "name": "ipython",
    "version": 3
   },
   "file_extension": ".py",
   "mimetype": "text/x-python",
   "name": "python",
   "nbconvert_exporter": "python",
   "pygments_lexer": "ipython3",
   "version": "3.5.2"
  }
 },
 "nbformat": 4,
 "nbformat_minor": 2
}
